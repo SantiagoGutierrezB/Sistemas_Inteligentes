{
  "nbformat": 4,
  "nbformat_minor": 0,
  "metadata": {
    "colab": {
      "name": "Ejercicios.ipynb",
      "provenance": [],
      "collapsed_sections": []
    },
    "kernelspec": {
      "display_name": "Python 3",
      "language": "python",
      "name": "python3"
    },
    "language_info": {
      "codemirror_mode": {
        "name": "ipython",
        "version": 3
      },
      "file_extension": ".py",
      "mimetype": "text/x-python",
      "name": "python",
      "nbconvert_exporter": "python",
      "pygments_lexer": "ipython3",
      "version": "3.7.6"
    }
  },
  "cells": [
    {
      "cell_type": "markdown",
      "metadata": {
        "id": "9FJQgMU6osCn",
        "colab_type": "text"
      },
      "source": [
        "[![Open In Colab](https://colab.research.google.com/assets/colab-badge.svg)](https://colab.research.google.com/github/MauricioRR-Tec/Sistemas-Inteligentes/blob/master/Notebooks/practica_1_python.ipynb)"
      ]
    },
    {
      "cell_type": "markdown",
      "metadata": {
        "colab_type": "text",
        "id": "4zMzLuXxBDdY"
      },
      "source": [
        "# Ejercicios bases de Python"
      ]
    },
    {
      "cell_type": "markdown",
      "metadata": {
        "colab_type": "text",
        "id": "HAY8IBC4dM62"
      },
      "source": [
        "## Estructuras, asignación y funciones"
      ]
    },
    {
      "cell_type": "markdown",
      "metadata": {
        "colab_type": "text",
        "id": "5OKzkyU6_1kB"
      },
      "source": [
        "### 1. Creando una agenda \n",
        "\n",
        "Utiliza los conceptos básicos de python para crear una agenda telefónica. Deberás completar las funciones crear_agenda, agregar_contacto, eliminimar_contacto y buscar_contacto que se encuentran en las siguientes celdas.\n",
        "\n",
        "* ```crear_agenda()```, esta función devuelve una nueva agenda vacía, elige el tipo de dato que creas adecuado para este proposito.\n",
        "* ```agregar_contacto(agenda, nombre, numero)```, esta función debe permitir agregar un nuevo contacto a la agenda, además si un contacto ya existe con el nombre recibido entonces debes almacenar su nuevo numero sin eliminar el anterior.\n",
        "* ```buscar_contacto(agenda, nombre)```, esta función debe de regresar el o los números registados de un contacto, si el contacto no existe entonces imprimer el mensaje \"Contacto no encontrado en la agenda\".\n",
        "* ```eliminar_contacto(agenda, nombre)```, esta función permite eliminar a un contacto de la agenda, si el contacto no existe entonces imprimer el mensaje \"Contacto no encontrado en la agenda\"."
      ]
    },
    {
      "cell_type": "code",
      "metadata": {
        "id": "y1XwoovlosCu",
        "colab_type": "code",
        "colab": {}
      },
      "source": [
        "def crear_agenda():\n",
        "    agenda = {}\n",
        "    return agenda"
      ],
      "execution_count": 99,
      "outputs": []
    },
    {
      "cell_type": "code",
      "metadata": {
        "colab_type": "code",
        "id": "QjsW0Y_M_x4j",
        "colab": {}
      },
      "source": [
        "def agregar_contacto(agenda, nombre, numero):\n",
        "    \"\"\"\n",
        "    Tip:\n",
        "    Primero debes comprobar si existe el contacto\n",
        "    si no existe entonces crea uno nuevo y guarda\n",
        "    su nombre y numero\"\"\"\n",
        "    if nombre in agenda:\n",
        "      if numero not in agenda[nombre]:\n",
        "        agenda[nombre].append(numero)\n",
        "        print(\"El contacto {} se ha actualizado\".format(nombre))\n",
        "      else:\n",
        "        print(\"El contacto {} ya tiene agregado ese número de teléfono\".format(nombre))\n",
        "    else:\n",
        "      agenda[nombre] = [numero]\n",
        "      print(\"El contacto {} se ha guardado\".format(nombre))\n",
        "    return agenda"
      ],
      "execution_count": 100,
      "outputs": []
    },
    {
      "cell_type": "code",
      "metadata": {
        "id": "4dk4VaDgosDE",
        "colab_type": "code",
        "colab": {
          "base_uri": "https://localhost:8080/",
          "height": 34
        },
        "outputId": "19eed036-3aeb-499a-ded1-caf6812f1517"
      },
      "source": [
        "agenda = crear_agenda()\n",
        "agenda = agregar_contacto(agenda, \"Javier\", \"1234567890\")"
      ],
      "execution_count": 106,
      "outputs": [
        {
          "output_type": "stream",
          "text": [
            "El contacto Javier se ha guardado\n"
          ],
          "name": "stdout"
        }
      ]
    },
    {
      "cell_type": "code",
      "metadata": {
        "id": "yLYUee54osDL",
        "colab_type": "code",
        "colab": {}
      },
      "source": [
        "def buscar_contacto(agenda, nombre):\n",
        "    \"\"\"\n",
        "    Busca el contacto en la agenda, imprime su nombre y numero\n",
        "    Si tiene mas de un numero, imprime todos\n",
        "    Si el contacto no existe, imprime \"Contacto no encontrado en la agenda\"\n",
        "    \"\"\"\n",
        "    if nombre in agenda:\n",
        "      print(\"{}:\".format(nombre))\n",
        "      for i in range(len(agenda[nombre])):\n",
        "        print(\"{},\".format(agenda[nombre][i]))\n",
        "    else:\n",
        "      print(\"Contacto no encontrado en la agenda\")\n",
        "    return"
      ],
      "execution_count": 104,
      "outputs": []
    },
    {
      "cell_type": "code",
      "metadata": {
        "id": "0k87DklzosDS",
        "colab_type": "code",
        "colab": {
          "base_uri": "https://localhost:8080/",
          "height": 119
        },
        "outputId": "78e45990-f444-44b2-9d61-c4c81e623c74"
      },
      "source": [
        "buscar_contacto(agenda, \"Javier\")\n",
        "agenda = agregar_contacto(agenda, \"Javier\", \"0987654321\")\n",
        "buscar_contacto(agenda, \"Javier\")"
      ],
      "execution_count": 107,
      "outputs": [
        {
          "output_type": "stream",
          "text": [
            "Javier:\n",
            "1234567890,\n",
            "El contacto Javier se ha actualizado\n",
            "Javier:\n",
            "1234567890,\n",
            "0987654321,\n"
          ],
          "name": "stdout"
        }
      ]
    },
    {
      "cell_type": "code",
      "metadata": {
        "id": "h7mIiEAkosDb",
        "colab_type": "code",
        "colab": {}
      },
      "source": [
        "def eliminar_contacto(agenda, nombre):\n",
        "    \"\"\"\n",
        "    Elimina el contacto de la agenda\n",
        "    si el contacto no existe imprime \"Contacto no encontrado en la agenda\"\n",
        "    \"\"\"\n",
        "    if nombre in agenda:\n",
        "      agenda.pop(nombre)\n",
        "      print(\"El contacto {} se ha eliminado exitosamente de la agenda\".format(nombre))\n",
        "    else:\n",
        "      print(\"Contacto no encontrado en la agenda\")\n",
        "    return agenda"
      ],
      "execution_count": 108,
      "outputs": []
    },
    {
      "cell_type": "code",
      "metadata": {
        "colab_type": "code",
        "id": "RkNtzllbBirX",
        "colab": {
          "base_uri": "https://localhost:8080/",
          "height": 34
        },
        "outputId": "d01ec4b9-5ba8-4523-b628-40df2d385aa2"
      },
      "source": [
        "agenda = eliminar_contacto(agenda, \"Javier\")"
      ],
      "execution_count": 109,
      "outputs": [
        {
          "output_type": "stream",
          "text": [
            "El contacto Javier se ha eliminado exitosamente de la agenda\n"
          ],
          "name": "stdout"
        }
      ]
    },
    {
      "cell_type": "markdown",
      "metadata": {
        "colab_type": "text",
        "id": "3nzzkH6EA88D"
      },
      "source": [
        "# Ejercicios estadística"
      ]
    },
    {
      "cell_type": "markdown",
      "metadata": {
        "colab_type": "text",
        "id": "e5g5CAaOc01h"
      },
      "source": [
        "### Función suma\n",
        "\n",
        "$$\n",
        "    suma(a) = \\sum_{i=1}^{n}a_i\n",
        "$$"
      ]
    },
    {
      "cell_type": "code",
      "metadata": {
        "colab_type": "code",
        "id": "RxWbpZ42c07g",
        "colab": {}
      },
      "source": [
        "def suma(x):\n",
        "    suma = sum(x)\n",
        "    return suma"
      ],
      "execution_count": 110,
      "outputs": []
    },
    {
      "cell_type": "code",
      "metadata": {
        "id": "i30-iNetosD1",
        "colab_type": "code",
        "colab": {}
      },
      "source": [
        "assert suma([1, 2, 3, 4, 5]) == 15"
      ],
      "execution_count": 111,
      "outputs": []
    },
    {
      "cell_type": "markdown",
      "metadata": {
        "colab_type": "text",
        "id": "Hc30xEPMc1QC"
      },
      "source": [
        "### Función promedio.\n",
        "\n",
        "$$\n",
        "\t\\bar{x} = \\dfrac{\\sum_{i=1}^{n}x_i}{n}\n",
        "$$"
      ]
    },
    {
      "cell_type": "code",
      "metadata": {
        "colab_type": "code",
        "id": "2KyU6PyCc1VM",
        "colab": {}
      },
      "source": [
        "def promedio(x):\n",
        "    promedio = sum(x) / len(x)\n",
        "    return promedio"
      ],
      "execution_count": 112,
      "outputs": []
    },
    {
      "cell_type": "code",
      "metadata": {
        "id": "1F31FWVXosEE",
        "colab_type": "code",
        "colab": {}
      },
      "source": [
        "assert promedio([1, 2, 3, 4, 5]) == 3, \"Error en promedio\""
      ],
      "execution_count": 113,
      "outputs": []
    },
    {
      "cell_type": "markdown",
      "metadata": {
        "colab_type": "text",
        "id": "ImMoE5w4c1of"
      },
      "source": [
        "### Función varianza.\n",
        "$$\n",
        "\\sigma^2 = \\frac{1}{n} \\sum_{i=1}^{n}(x_i - \\bar{x})^2\n",
        "$$"
      ]
    },
    {
      "cell_type": "code",
      "metadata": {
        "colab_type": "code",
        "id": "h0w2PHhLc1tG",
        "colab": {}
      },
      "source": [
        "def var(x):\n",
        "    avg = promedio(x)\n",
        "    var = suma((xi - avg) ** 2 for xi in x) / len(x)\n",
        "    return var"
      ],
      "execution_count": 114,
      "outputs": []
    },
    {
      "cell_type": "code",
      "metadata": {
        "id": "zon9CeBjosER",
        "colab_type": "code",
        "colab": {}
      },
      "source": [
        "assert var([1, 2, 3, 4, 5]) == 2, \"Error en var\""
      ],
      "execution_count": 115,
      "outputs": []
    },
    {
      "cell_type": "markdown",
      "metadata": {
        "colab_type": "text",
        "id": "fxxJeFhbA9Cq"
      },
      "source": [
        "# Ejercicios álgebra lineal"
      ]
    },
    {
      "cell_type": "markdown",
      "metadata": {
        "colab_type": "text",
        "id": "6dXp-owNeqP9"
      },
      "source": [
        "## Vectores con listas"
      ]
    },
    {
      "cell_type": "markdown",
      "metadata": {
        "colab_type": "text",
        "id": "9Du0_NsNc81H"
      },
      "source": [
        "### Ones"
      ]
    },
    {
      "cell_type": "markdown",
      "metadata": {
        "colab_type": "text",
        "id": "DKp9wDLPEZdz"
      },
      "source": [
        "Completa la función ones1D que recibe como parámetros un entero $n$ y retorna una lista de tamaño $n$ con todos sus elementos con el valor $1$.\n",
        "\n",
        "Ejemplo:\n",
        "\n",
        "```\n",
        ">>> ones(5)\n",
        "[1, 1, 1, 1, 1]\n",
        "```\n",
        "\n"
      ]
    },
    {
      "cell_type": "code",
      "metadata": {
        "colab_type": "code",
        "id": "l4j5ka46EulY",
        "colab": {}
      },
      "source": [
        "def ones_1d(n):\n",
        "    ones_list = []\n",
        "    for i in range(n):\n",
        "      ones_list.append(1)\n",
        "    return ones_list  "
      ],
      "execution_count": 116,
      "outputs": []
    },
    {
      "cell_type": "markdown",
      "metadata": {
        "colab_type": "text",
        "id": "TBYV7LYqdSJo"
      },
      "source": [
        "Ejecuta la siguiente celda para comprobar la función ones1D:"
      ]
    },
    {
      "cell_type": "code",
      "metadata": {
        "colab_type": "code",
        "id": "QUlEotVIdRno",
        "colab": {
          "base_uri": "https://localhost:8080/",
          "height": 34
        },
        "outputId": "f227da40-97d9-4400-dfcc-62be901fa361"
      },
      "source": [
        "assert len(ones_1d(10)) == 10 and  ones_1d(3).count(1) == 3 and sum(ones_1d(5)) == 5  , \"error en la funcion ones_1d\"\n",
        "print(\"La funcion es correcta\")"
      ],
      "execution_count": 117,
      "outputs": [
        {
          "output_type": "stream",
          "text": [
            "La funcion es correcta\n"
          ],
          "name": "stdout"
        }
      ]
    },
    {
      "cell_type": "markdown",
      "metadata": {
        "id": "wtIlHyMkosEs",
        "colab_type": "text"
      },
      "source": [
        "### Ones 2D"
      ]
    },
    {
      "cell_type": "markdown",
      "metadata": {
        "colab_type": "text",
        "id": "lxOMWQXXEZp3"
      },
      "source": [
        "Completa la función ones_2d que recibe como parámetros un entero $n$ y un entero $m$ y retorna una lista con $n$ sub-listas cada una de tamaño $m$ con todos sus elementos con el valor 1. En otras palabras, una matriz $n \\times m$ con sus elementos iniciados con valor $1$.\n",
        "\n",
        "Ejemplo:\n",
        "\n",
        "\n",
        "\n",
        "```\n",
        ">>> ones_2d(2, 3)\n",
        "[[1, 1, 1], [1, 1, 1]]\n",
        "```\n",
        "\n"
      ]
    },
    {
      "cell_type": "code",
      "metadata": {
        "colab_type": "code",
        "id": "-xfFmttxFRCw",
        "colab": {}
      },
      "source": [
        "def ones_2d(m, n):\n",
        "    ones_ll = []\n",
        "    for i in range(m):\n",
        "      ones_ll.append([])\n",
        "      for j in range(n):\n",
        "        ones_ll[i].append(1)\n",
        "    return ones_ll"
      ],
      "execution_count": 118,
      "outputs": []
    },
    {
      "cell_type": "markdown",
      "metadata": {
        "colab_type": "text",
        "id": "yugjWXI9eI4P"
      },
      "source": [
        "Ejecuta la siguiente celda para comprobar la función ones2D:"
      ]
    },
    {
      "cell_type": "code",
      "metadata": {
        "colab_type": "code",
        "id": "i7sZXWsveJBC",
        "colab": {
          "base_uri": "https://localhost:8080/",
          "height": 34
        },
        "outputId": "d24da924-532d-4e5d-bb00-a20edda9b8a3"
      },
      "source": [
        "assert len(ones_2d(2, 3)) == 2 and len(ones_2d(2, 3)[0]) == 3 and sum([x_i for sl in ones_2d(3, 2) for x_i in sl]) == 6 , \"error en la funcion ones_2d\"\n",
        "print(\"La funcion es correcta\")"
      ],
      "execution_count": 119,
      "outputs": [
        {
          "output_type": "stream",
          "text": [
            "La funcion es correcta\n"
          ],
          "name": "stdout"
        }
      ]
    },
    {
      "cell_type": "markdown",
      "metadata": {
        "id": "_PqzaL2posE4",
        "colab_type": "text"
      },
      "source": [
        "### Producto punto (inner)"
      ]
    },
    {
      "cell_type": "markdown",
      "metadata": {
        "id": "RzYRJAMvosE5",
        "colab_type": "text"
      },
      "source": [
        "Completa la función ones_2d que recibe como parametros dos listas a, b de la misma longitúd y retorna el producto punto de ambos.\n",
        "\n",
        "El producto punto está definido como:\n",
        "\n",
        "$$a = [a_1 a_2 ... a_n] \\: y \\: b = [b_1 b_2 ... b_n]$$\n",
        "\n",
        "$$\n",
        "a \\cdot b = a_1*b_1 + a_2*b_2 + \\dots + a_n*b_n\n",
        "$$"
      ]
    },
    {
      "cell_type": "code",
      "metadata": {
        "colab_type": "code",
        "id": "OvNCcnXLBBc0",
        "colab": {}
      },
      "source": [
        "def inner(a, b):\n",
        "    if len(a) == len(b):\n",
        "      return sum(i[0] * i[1] for i in zip(a, b))\n",
        "    return 0"
      ],
      "execution_count": 120,
      "outputs": []
    },
    {
      "cell_type": "code",
      "metadata": {
        "id": "40PYkstzosE-",
        "colab_type": "code",
        "colab": {
          "base_uri": "https://localhost:8080/",
          "height": 34
        },
        "outputId": "d39e48ca-c696-4e2f-d6a3-63816da0a63c"
      },
      "source": [
        "assert inner([1, 2, 3], [1, 2 ,3]) == 14, \"Error en inner\"\n",
        "print(\"Correcto\")"
      ],
      "execution_count": 121,
      "outputs": [
        {
          "output_type": "stream",
          "text": [
            "Correcto\n"
          ],
          "name": "stdout"
        }
      ]
    },
    {
      "cell_type": "markdown",
      "metadata": {
        "colab_type": "text",
        "id": "6B7dwCC7eqnL"
      },
      "source": [
        "## Matrices con listas de listas"
      ]
    },
    {
      "cell_type": "markdown",
      "metadata": {
        "colab_type": "text",
        "id": "l36RNkUqexzU"
      },
      "source": [
        "### Matriz identidad\n",
        "$$\n",
        "\tI_{ij} = \\begin{cases}\n",
        "\t\t1 & i=j\\\\\n",
        "\t\t0 & i \\neq j\\\\\n",
        "\t\\end{cases}\n",
        "$$"
      ]
    },
    {
      "cell_type": "code",
      "metadata": {
        "colab_type": "code",
        "id": "afcnX6E_eqvP",
        "colab": {}
      },
      "source": [
        "def eye(n):\n",
        "    '''\n",
        "    Esta funcion debe regresar la matriz identidad de tamano nxn\n",
        "    '''\n",
        "    I = [[0 for i in range(n)] for j in range(n)]\n",
        "    for i in range(0, n):\n",
        "      I[i][i] = 1\n",
        "    return I"
      ],
      "execution_count": 122,
      "outputs": []
    },
    {
      "cell_type": "code",
      "metadata": {
        "id": "F0d_ba30osFM",
        "colab_type": "code",
        "colab": {}
      },
      "source": [
        "assert eye(2) == [[1, 0], [0, 1]], \"Error en eye\""
      ],
      "execution_count": 123,
      "outputs": []
    },
    {
      "cell_type": "markdown",
      "metadata": {
        "colab_type": "text",
        "id": "jLXu_k7CfCqF"
      },
      "source": [
        "### Matriz transpuesta\n",
        "\n",
        "$$C = A^T \\Leftrightarrow c_{ij} = a{ji}$$\n",
        "\n",
        "Por ejemplo, si:\n",
        "\t$$\n",
        "\tA = \\begin{bmatrix}\n",
        "\ta_{11} & a_{12}  \\\\\n",
        "\ta_{21} & a_{22}  \\\\\n",
        "\ta_{31} & a_{32}  \\\\\n",
        "\t\\end{bmatrix}\n",
        "\t$$\n",
        "\tentonces\n",
        "\t$$\n",
        "\tA^T = \\begin{bmatrix}\n",
        "\ta_{11} & a_{21} & a_{31} \\\\\n",
        "\ta_{12} & a_{22} & a_{32} \\\\\n",
        "\t\\end{bmatrix}\n",
        "\t$$"
      ]
    },
    {
      "cell_type": "code",
      "metadata": {
        "colab_type": "code",
        "id": "zKWY09JhfEfa",
        "colab": {}
      },
      "source": [
        "def traspose(A):\n",
        "    '''\n",
        "    Esta funcion debe regresar la transpuesta de A\n",
        "    '''\n",
        "    A_t = [[A[j][i] for j in range(len(A))] for i in range(len(A[0]))]\n",
        "    return A_t"
      ],
      "execution_count": 124,
      "outputs": []
    },
    {
      "cell_type": "code",
      "metadata": {
        "id": "3l4SikHXosFa",
        "colab_type": "code",
        "colab": {}
      },
      "source": [
        "assert traspose([[1, 2], [3, 4], [5, 6]]) == [[1, 3, 5], [2, 4, 6]], \"Error en traspose\""
      ],
      "execution_count": 125,
      "outputs": []
    },
    {
      "cell_type": "markdown",
      "metadata": {
        "id": "7GK8NjnHosFd",
        "colab_type": "text"
      },
      "source": [
        "### Valida multiplicación\n",
        "\n",
        "```True``` si\n",
        "$$A \\qquad es \\qquad mxn$$\n",
        "y\n",
        "$$B \\qquad es \\qquad nxp$$\n",
        "```False``` en otro caso"
      ]
    },
    {
      "cell_type": "code",
      "metadata": {
        "id": "1RtH4JqrosFd",
        "colab_type": "code",
        "colab": {}
      },
      "source": [
        "def validate_mat_mul(A, B):\n",
        "    val = False\n",
        "    if len(A[0]) == len(B):\n",
        "      val = True\n",
        "    return val"
      ],
      "execution_count": 126,
      "outputs": []
    },
    {
      "cell_type": "code",
      "metadata": {
        "id": "jhWidkgEosFm",
        "colab_type": "code",
        "colab": {}
      },
      "source": [
        "assert validate_mat_mul([[1, 2], [3, 4]], [[5, 6], [7, 8]]) and \\\n",
        "validate_mat_mul([[1, 2], [3, 4], [5, 6]], [[1, 2, 3], [4, 5, 6]]) and \\\n",
        "not validate_mat_mul([[1, 2, 3], [4, 5, 6], [7, 8, 9]], [[1, 2], [3, 4]]), \"Error en validate_mat_mul\""
      ],
      "execution_count": 127,
      "outputs": []
    },
    {
      "cell_type": "markdown",
      "metadata": {
        "colab_type": "text",
        "id": "RY2TgoGye3pV"
      },
      "source": [
        "### Multiplicación de matrices\n",
        "\n",
        "Si $A \\in \\mathbb{R}^{m \\times n}$ y $B \\in \\mathbb{R}^{n \\times p}$ entonces:\n",
        "$$\n",
        "C = A B \\in \\mathbb{R}^{m \\times p}\\Leftrightarrow c_{ij} = \\sum_{k=1}^{n}a_{ik} b_{kj}\n",
        "$$"
      ]
    },
    {
      "cell_type": "code",
      "metadata": {
        "colab_type": "code",
        "id": "DxFQFm51e-A1",
        "colab": {}
      },
      "source": [
        "def mat_mul(A, B):\n",
        "    C = []\n",
        "    if validate_mat_mul(A, B):\n",
        "      C = [[0 for x in range(len(B[0]))] for y in range(len(A))]\n",
        "      for i in range(len(A)):\n",
        "        for j in range(len(B[0])):\n",
        "          for k in range(len(A[0])):\n",
        "            C[i][j] += A[i][k] * B[k][j]\n",
        "    return C\n",
        "    "
      ],
      "execution_count": 128,
      "outputs": []
    },
    {
      "cell_type": "code",
      "metadata": {
        "id": "fwHaKLNTosFy",
        "colab_type": "code",
        "colab": {}
      },
      "source": [
        "assert mat_mul([[1, 2], [3, 4], [5, 6]], [[2, 2], [2, 2]]) == [[6, 6], [14, 14], [22, 22]], \"Error en mat_mul\""
      ],
      "execution_count": 129,
      "outputs": []
    }
  ]
}